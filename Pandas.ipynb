{
  "nbformat": 4,
  "nbformat_minor": 0,
  "metadata": {
    "colab": {
      "provenance": [],
      "authorship_tag": "ABX9TyNwS/Tpy4dgaDJIFFAiq6zn",
      "include_colab_link": true
    },
    "kernelspec": {
      "name": "python3",
      "display_name": "Python 3"
    },
    "language_info": {
      "name": "python"
    }
  },
  "cells": [
    {
      "cell_type": "markdown",
      "metadata": {
        "id": "view-in-github",
        "colab_type": "text"
      },
      "source": [
        "<a href=\"https://colab.research.google.com/github/alpapathak/ChoreChart/blob/master/Pandas.ipynb\" target=\"_parent\"><img src=\"https://colab.research.google.com/assets/colab-badge.svg\" alt=\"Open In Colab\"/></a>"
      ]
    },
    {
      "cell_type": "code",
      "execution_count": 5,
      "metadata": {
        "colab": {
          "base_uri": "https://localhost:8080/"
        },
        "id": "s_YiU5r91AKD",
        "outputId": "c1ac1967-ec3d-4acc-c986-a8ed5b3571d3"
      },
      "outputs": [
        {
          "output_type": "stream",
          "name": "stdout",
          "text": [
            "          Title           Director  Rating\n",
            "0     Inception  Christopher Nolan     8.8\n",
            "1       Dunkirk  Christopher Nolan     7.9\n",
            "2  Interstellar  Christopher Nolan     8.6\n",
            "3  The Prestige  Christopher Nolan     8.5\n",
            "4       Memento  Christopher Nolan     8.4\n",
            "0    8.8\n",
            "1    7.9\n",
            "2    8.6\n",
            "3    8.5\n",
            "4    8.4\n",
            "Name: Rating, dtype: float64\n",
            "8.440000000000001\n"
          ]
        }
      ],
      "source": [
        "import pandas as pd\n",
        "data = {\n",
        "    'Title': ['Inception', 'Dunkirk', 'Interstellar', 'The Prestige', 'Memento'],\n",
        "    'Director': ['Christopher Nolan', 'Christopher Nolan', 'Christopher Nolan', 'Christopher Nolan', 'Christopher Nolan'],\n",
        "    'Rating': [8.8, 7.9, 8.6, 8.5, 8.4]\n",
        "}\n",
        "df = pd.DataFrame(data)\n",
        "#print(df)\n",
        "row_loc = df.loc[:, 'Rating']\n",
        "#print(row_loc)\n",
        "rows_mean = row_loc.mean()\n",
        "#print(rows_mean)"
      ]
    },
    {
      "cell_type": "code",
      "source": [
        "#Given the following DataFrame, write a Python program using Pandas to extract all rows where the price is greater than or equal to 20,000\n",
        "#and sort them in descending order by price.\n",
        "\n",
        "\n",
        "\n",
        "data = {\n",
        "\n",
        "    'Product': ['Laptop', 'Desktop', 'Tablet', 'Phone', 'Smartwatch'],\n",
        "\n",
        "    'Price': [25000, 12000, 8000, 22000, 5000]\n",
        "\n",
        "}\n",
        "\n",
        "\n",
        "\n",
        "df = pd.DataFrame(data)\n",
        "cond_df =df[df['Price'] >=  20000]\n",
        "#print(cond_df)\n",
        "sort_cond = cond_df.sort_values(by='Price', ascending=False)\n",
        "#print(sort_cond)"
      ],
      "metadata": {
        "colab": {
          "base_uri": "https://localhost:8080/"
        },
        "id": "UMLJIbIs3VqQ",
        "outputId": "a0dc184a-c2a9-4bde-b2d0-bcab3259c244"
      },
      "execution_count": 7,
      "outputs": [
        {
          "output_type": "stream",
          "name": "stdout",
          "text": [
            "  Product  Price\n",
            "0  Laptop  25000\n",
            "3   Phone  22000\n",
            "  Product  Price\n",
            "0  Laptop  25000\n",
            "3   Phone  22000\n"
          ]
        }
      ]
    },
    {
      "cell_type": "code",
      "source": [
        "#Write a Python program using Pandas to create a DataFrame from the given data\n",
        "# and find the total revenue and average price of items sold in each store.\n",
        "\n",
        "\n",
        "\n",
        "data = {\n",
        "\n",
        "    'Store': ['A', 'B', 'A', 'B', 'A', 'B', 'A', 'B'],\n",
        "\n",
        "    'Item': ['Apple', 'Banana', 'Orange', 'Grape', 'Apple', 'Banana', 'Orange', 'Grape'],\n",
        "\n",
        "    'Price': [50, 20, 30, 60, 55, 22, 33, 65],\n",
        "\n",
        "    'Quantity': [10, 12, 15, 16, 20, 25, 30, 35]\n",
        "\n",
        "}\n",
        "df = pd.DataFrame(data)\n",
        "\n",
        "tot_col = df.loc[:, 'Price']\n",
        "print(tot_col)\n",
        "avg_price = tot_col.mean()\n",
        "print(avg_price)\n",
        "avg_price = df.groupby('Store')['Price'].mean()\n",
        "print(avg_price)"
      ],
      "metadata": {
        "colab": {
          "base_uri": "https://localhost:8080/"
        },
        "id": "PcptwKw84495",
        "outputId": "4e6bbb3f-1d4b-4360-afba-046bd00c00ac"
      },
      "execution_count": 8,
      "outputs": [
        {
          "output_type": "stream",
          "name": "stdout",
          "text": [
            "0    50\n",
            "1    20\n",
            "2    30\n",
            "3    60\n",
            "4    55\n",
            "5    22\n",
            "6    33\n",
            "7    65\n",
            "Name: Price, dtype: int64\n",
            "41.875\n",
            "Store\n",
            "A    42.00\n",
            "B    41.75\n",
            "Name: Price, dtype: float64\n"
          ]
        }
      ]
    },
    {
      "cell_type": "code",
      "source": [
        "#Write a Python program using Pandas to create a DataFrame from the given data and\n",
        "# calculate the total amount spent by each customer.\n",
        "\n",
        "\n",
        "\n",
        "data = {\n",
        "\n",
        "    'Customer': ['Alice', 'Bob', 'Alice', 'Alice', 'Bob', 'Bob', 'Alice', 'Bob'],\n",
        "\n",
        "    'Item': ['Pen', 'Pencil', 'Notebook', 'Eraser', 'Pen', 'Pencil', 'Notebook', 'Eraser'],\n",
        "\n",
        "    'Price': [10, 5, 50, 20, 10, 5, 50, 20],\n",
        "\n",
        "    'Quantity': [3, 4, 2, 5, 10, 6, 1, 2]\n",
        "\n",
        "}\n",
        "df = pd.DataFrame(data)\n",
        "print(df)\n",
        "sorted_values = df.sort_values(by='Customer')\n",
        "print(sorted_values)\n",
        "#tot_col = df.loc[:, 'Price']\n",
        "#print(tot_col)\n",
        "tot_bycust = df.groupby('Customer')['Price'].sum()\n",
        "print(tot_bycust)"
      ],
      "metadata": {
        "colab": {
          "base_uri": "https://localhost:8080/"
        },
        "id": "y8LDxK886om6",
        "outputId": "149e0e8a-9d11-43b4-f0b1-ba8ed7ce89f0"
      },
      "execution_count": 13,
      "outputs": [
        {
          "output_type": "stream",
          "name": "stdout",
          "text": [
            "  Customer      Item  Price  Quantity\n",
            "0    Alice       Pen     10         3\n",
            "1      Bob    Pencil      5         4\n",
            "2    Alice  Notebook     50         2\n",
            "3    Alice    Eraser     20         5\n",
            "4      Bob       Pen     10        10\n",
            "5      Bob    Pencil      5         6\n",
            "6    Alice  Notebook     50         1\n",
            "7      Bob    Eraser     20         2\n",
            "  Customer      Item  Price  Quantity\n",
            "0    Alice       Pen     10         3\n",
            "2    Alice  Notebook     50         2\n",
            "3    Alice    Eraser     20         5\n",
            "6    Alice  Notebook     50         1\n",
            "1      Bob    Pencil      5         4\n",
            "4      Bob       Pen     10        10\n",
            "5      Bob    Pencil      5         6\n",
            "7      Bob    Eraser     20         2\n",
            "0    10\n",
            "1     5\n",
            "2    50\n",
            "3    20\n",
            "4    10\n",
            "5     5\n",
            "6    50\n",
            "7    20\n",
            "Name: Price, dtype: int64\n",
            "Customer\n",
            "Alice    130\n",
            "Bob       40\n",
            "Name: Price, dtype: int64\n"
          ]
        }
      ]
    },
    {
      "cell_type": "code",
      "source": [
        "#Write a Python program using Pandas to create a DataFrame from the given data and\n",
        "# find the month with the highest average temperature.\n",
        "\n",
        "\n",
        "\n",
        "data = {\n",
        "\n",
        "    'Month': ['Jan', 'Feb', 'Mar', 'Apr', 'May', 'Jun', 'Jul', 'Aug', 'Sep', 'Oct', 'Nov', 'Dec'],\n",
        "\n",
        "    'Temperature': [20, 22, 25, 27, 30, 32, 35, 34, 30, 28, 24, 21]\n",
        "\n",
        "}\n",
        "\n",
        "\n",
        "\n",
        "df = pd.DataFrame(data)\n",
        "max_temp = df.loc[:,'Temperature'].max()\n",
        "print(max_temp)\n",
        "loc_max = df[df['Temperature'] == max_temp]\n",
        "print(loc_max)\n"
      ],
      "metadata": {
        "colab": {
          "base_uri": "https://localhost:8080/"
        },
        "id": "gFpsB14x8H-r",
        "outputId": "4ba9f9fe-5fcf-40d5-f03f-4e723d332765"
      },
      "execution_count": 31,
      "outputs": [
        {
          "output_type": "stream",
          "name": "stdout",
          "text": [
            "35\n",
            "  Month  Temperature\n",
            "6   Jul           35\n"
          ]
        }
      ]
    },
    {
      "cell_type": "code",
      "source": [
        "data = {\n",
        "\n",
        "    'Category': ['Fruit', 'Vegetable', 'Fruit', 'Vegetable', 'Fruit', 'Vegetable'],\n",
        "\n",
        "    'Name': ['Apple', 'Carrot', 'Banana', 'Potato', 'Grape', 'Onion'],\n",
        "\n",
        "    'Price': [2, 1, 1.5, 0.5, 3, 1],\n",
        "\n",
        "    'Quantity': [10, 20, 15, 30, 5, 40]\n",
        "\n",
        "}\n",
        "\n",
        "\n",
        "\n",
        "df = pd.DataFrame(data)\n",
        "\n",
        "\n",
        "\n",
        "fruits = df[df['Category'] == 'Fruit']\n",
        "\n",
        "total_fruit_value = fruits['Price'].sum() * fruits['Quantity'].sum()\n",
        "\n",
        "print(total_fruit_value)\n",
        "\n"
      ],
      "metadata": {
        "colab": {
          "base_uri": "https://localhost:8080/"
        },
        "id": "5y8HNEumRvVj",
        "outputId": "47b390e3-8ecd-4da9-ffac-54eaaeb7ce71"
      },
      "execution_count": 32,
      "outputs": [
        {
          "output_type": "stream",
          "name": "stdout",
          "text": [
            "195.0\n"
          ]
        }
      ]
    },
    {
      "cell_type": "code",
      "source": [
        "data = {\n",
        "\n",
        "    'Name': ['Alice', 'Bob', 'Charlie', 'David'],\n",
        "\n",
        "    'Age': [25, 30, 35, 40],\n",
        "\n",
        "    'City': ['New York', 'San Francisco', 'Los Angeles', 'Chicago']\n",
        "\n",
        "}\n",
        "\n",
        "\n",
        "\n",
        "df = pd.DataFrame(data)\n",
        "\n",
        "\n",
        "\n",
        "result = df[df['Age'] >= 30].sort_values(by='Age', ascending=False).iloc[0]['City']\n",
        "\n",
        "print(result)\n",
        "\n"
      ],
      "metadata": {
        "colab": {
          "base_uri": "https://localhost:8080/"
        },
        "id": "z12WaDdUSOWB",
        "outputId": "5c325808-8afc-498d-cd20-a2a1e010672d"
      },
      "execution_count": 33,
      "outputs": [
        {
          "output_type": "stream",
          "name": "stdout",
          "text": [
            "Chicago\n"
          ]
        }
      ]
    },
    {
      "cell_type": "code",
      "source": [
        "data = {\n",
        "\n",
        "    'Product': ['A', 'B', 'C', 'A', 'B', 'C'],\n",
        "\n",
        "    'Price': [100, 200, 300, 150, 250, 350],\n",
        "\n",
        "    'Quantity': [10, 5, 7, 12, 8, 5]\n",
        "\n",
        "}\n",
        "\n",
        "\n",
        "\n",
        "df = pd.DataFrame(data)\n",
        "\n",
        "\n",
        "\n",
        "total_revenue = (df['Price'] * df['Quantity']).sum()\n",
        "print (total_revenue)\n",
        "\n",
        "average_price = df['Price'].mean()\n",
        "\n",
        "print(total_revenue, average_price)\n",
        "\n"
      ],
      "metadata": {
        "colab": {
          "base_uri": "https://localhost:8080/"
        },
        "id": "0d59OZY1TKCz",
        "outputId": "42779d07-8f48-4e86-fc61-ccdba5f5a494"
      },
      "execution_count": 35,
      "outputs": [
        {
          "output_type": "stream",
          "name": "stdout",
          "text": [
            "9650\n",
            "9650 225.0\n"
          ]
        }
      ]
    },
    {
      "cell_type": "code",
      "source": [
        "#Write a Python program using Pandas to create a DataFrame from the given data and\n",
        "#find the total amount spent per item, as well as the total amount spent by all customers.\n",
        "\n",
        "\n",
        "\n",
        "data = {\n",
        "\n",
        "    'Customer': ['Alice', 'Bob', 'Alice', 'Alice', 'Bob', 'Bob', 'Alice', 'Bob'],\n",
        "\n",
        "    'Item': ['Pen', 'Pencil', 'Notebook', 'Eraser', 'Pen', 'Pencil', 'Notebook', 'Eraser'],\n",
        "\n",
        "    'Price': [10, 5, 50, 20, 10, 5, 50, 20],\n",
        "\n",
        "    'Quantity': [3, 4, 2, 5, 10, 6, 1, 2]\n",
        "\n",
        "}\n",
        "\n",
        "df = pd.DataFrame(data)\n",
        "\n",
        "df['Total_Spent'] = df['Price'] * df['Quantity']\n",
        "\n",
        "total_spent_per_item = df.groupby('Item')['Total_Spent'].sum()\n",
        "print(total_spent_per_item)\n",
        "\n",
        "total_spent_by_all_customers = df['Total_Spent'].sum()\n",
        "print(total_spent_by_all_customers)\n"
      ],
      "metadata": {
        "colab": {
          "base_uri": "https://localhost:8080/"
        },
        "id": "FTdYZf1yTukK",
        "outputId": "b1a2d0c3-d136-4596-e6a2-66e61bfe2a95"
      },
      "execution_count": 36,
      "outputs": [
        {
          "output_type": "stream",
          "name": "stdout",
          "text": [
            "Item\n",
            "Eraser      140\n",
            "Notebook    150\n",
            "Pen         130\n",
            "Pencil       50\n",
            "Name: Total_Spent, dtype: int64\n",
            "470\n"
          ]
        }
      ]
    }
  ]
}